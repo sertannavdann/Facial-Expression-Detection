{
 "cells": [
  {
   "cell_type": "code",
   "execution_count": null,
   "metadata": {},
   "outputs": [],
   "source": [
    "import onnx\n",
    "import onnxruntime as rt\n",
    "import numpy as np\n",
    "import cv2\n",
    "import matplotlib.pyplot as plt\n",
    "import os\n",
    "import time\n",
    "\n",
    "# Load the ONNX model\n",
    "model = onnx.load(\"models/FER_Model_Adam.onnx\")\n",
    "\n",
    "# Check that the IR is well formed\n",
    "onnx.checker.check_model(model)"
   ]
  },
  {
   "cell_type": "code",
   "execution_count": null,
   "metadata": {},
   "outputs": [],
   "source": [
    "# Print a human readable representation of the graph\n",
    "onnx.helper.printable_graph(model.graph)"
   ]
  },
  {
   "cell_type": "code",
   "execution_count": null,
   "metadata": {},
   "outputs": [],
   "source": [
    "# Load the ONNX model\n",
    "sess = rt.InferenceSession(\"models/FER_Model_Adam.onnx\")\n",
    "sess"
   ]
  },
  {
   "cell_type": "code",
   "execution_count": null,
   "metadata": {},
   "outputs": [],
   "source": [
    "# Get input and output names\n",
    "input_name = sess.get_inputs()[0].name\n",
    "output_name = sess.get_outputs()[0].name\n",
    "\n",
    "print(\"Input name: \",input_name)\n",
    "print(\"Output name: \",output_name)"
   ]
  },
  {
   "cell_type": "code",
   "execution_count": null,
   "metadata": {},
   "outputs": [],
   "source": [
    "classes = ['fear', 'angry', 'sad', 'neutral', 'surprise', 'disgust', 'happy']"
   ]
  },
  {
   "cell_type": "code",
   "execution_count": null,
   "metadata": {},
   "outputs": [],
   "source": [
    "last_emotion_prob = None\n",
    "\n",
    "def update_emotion_bars(sleep_time, emotion_probs, frame, x, y, w, last_update_time):\n",
    "    global last_emotion_prob\n",
    "    current_time = time.time()\n",
    "    if current_time - last_update_time > sleep_time:\n",
    "        # Update the emotion_probs with the latest values\n",
    "        emotion_probs = emotion_probs\n",
    "        last_emotion_prob = emotion_probs\n",
    "        last_update_time = current_time\n",
    "    else:\n",
    "        # Keep the emotion_probs as it is\n",
    "        if(last_emotion_prob is not None):\n",
    "            emotion_probs = last_emotion_prob\n",
    "\n",
    "    # Set up graph parameters\n",
    "    bar_width = 20\n",
    "    bar_spacing = 10\n",
    "    max_bar_height = 100\n",
    "    x_offset = x + w + 10\n",
    "    y_offset = y\n",
    "\n",
    "    # Draw the probability bars\n",
    "    for i, prob in enumerate(emotion_probs):\n",
    "        bar_height = int(prob * max_bar_height)\n",
    "        bar_color = (0, 255, 0) if i == np.argmax(emotion_probs) else (0, 0, 255)\n",
    "        cv2.rectangle(frame, (x_offset, y_offset + i * (bar_width + bar_spacing)), (x_offset + bar_height, y_offset + (i + 1) * bar_width + i * bar_spacing), bar_color, -1)\n",
    "        cv2.putText(frame, f\"{classes[i]}: {prob:.2f}\", (x_offset + bar_height + 5, y_offset + (i + 1) * bar_width + i * bar_spacing - 5), cv2.FONT_HERSHEY_SIMPLEX, 0.5, (255, 255, 255), 1)\n",
    "\n",
    "    return frame, last_update_time\n"
   ]
  },
  {
   "cell_type": "code",
   "execution_count": null,
   "metadata": {},
   "outputs": [],
   "source": [
    "import cv2\n",
    "import os\n",
    "import numpy as np\n",
    "import time\n",
    "\n",
    "last_update_time = time.time()\n",
    "\n",
    "# Face detection setup\n",
    "cascPathface = os.path.dirname(\n",
    "    cv2.__file__) + \"/data/haarcascade_frontalface_alt2.xml\"\n",
    "faceCascade = cv2.CascadeClassifier(cascPathface)\n",
    "video_capture = cv2.VideoCapture(0)\n",
    "\n",
    "while True:\n",
    "    ret, frame = video_capture.read()\n",
    "    frame = cv2.flip(frame, 1)\n",
    "    gray = cv2.cvtColor(frame, cv2.COLOR_BGR2GRAY)\n",
    "    faces = faceCascade.detectMultiScale(gray, scaleFactor=1.1, minNeighbors=5, minSize=(128, 128), flags=cv2.CASCADE_SCALE_IMAGE)\n",
    "    \n",
    "    for (x, y, w, h) in faces:\n",
    "        cv2.rectangle(frame, (x, y), (x + w, y + h), (255, 255, 0), 2)\n",
    "        \n",
    "        face_gray = frame[y:y+h, x:x+w]\n",
    "        face_gray_resized = cv2.resize(face_gray, (128, 128))\n",
    "\n",
    "        # Convert the single channel grayscale image to a 3-channel image\n",
    "        #face_gray_3channel = cv2.cvtColor(face_gray_resized, cv2.COLOR_GRAY2BGR)\n",
    "\n",
    "        # Prepare the input for the model\n",
    "        \n",
    "        face_input = np.transpose(face_gray_resized, (2, 0, 1))\n",
    "        face_input = np.expand_dims(face_input, axis=0)\n",
    "        print(face_input.shape)\n",
    "        face_input = face_input.astype(np.float32)\n",
    "        face_input = face_input / 255.0\n",
    "\n",
    "\n",
    "        start = time.time()\n",
    "        pred_onx = sess.run([output_name], {input_name: face_input})\n",
    "        end = time.time()\n",
    "        print(\"Time taken by onnx model: \", end - start)\n",
    "\n",
    "        print(\"Emotion: \", classes[np.argmax(pred_onx)])\n",
    "        cv2.putText(frame, classes[np.argmax(pred_onx)], (x, y - 10), cv2.FONT_HERSHEY_SIMPLEX, 0.7, (255, 255, 0), 2)\n",
    "\n",
    "        # Get the probabilities for each emotion class\n",
    "        emotion_probs = pred_onx[0][0]\n",
    "\n",
    "        # Call the update_emotion_bars function with the sleep time and emotion_probs\n",
    "        frame, last_update_time = update_emotion_bars(0.5, emotion_probs, frame, x, y, w, last_update_time)\n",
    "\n",
    "\n",
    "    cv2.imshow('Video', frame)\n",
    "    if cv2.waitKey(1) & 0xFF == ord('q'):\n",
    "        break\n",
    "\n",
    "\n",
    "video_capture.release()\n",
    "cv2.destroyAllWindows()"
   ]
  },
  {
   "cell_type": "markdown",
   "metadata": {},
   "source": []
  },
  {
   "cell_type": "code",
   "execution_count": null,
   "metadata": {},
   "outputs": [],
   "source": []
  }
 ],
 "metadata": {
  "kernelspec": {
   "display_name": "torch",
   "language": "python",
   "name": "python3"
  },
  "language_info": {
   "codemirror_mode": {
    "name": "ipython",
    "version": 3
   },
   "file_extension": ".py",
   "mimetype": "text/x-python",
   "name": "python",
   "nbconvert_exporter": "python",
   "pygments_lexer": "ipython3",
   "version": "3.10.10"
  },
  "orig_nbformat": 4
 },
 "nbformat": 4,
 "nbformat_minor": 2
}
