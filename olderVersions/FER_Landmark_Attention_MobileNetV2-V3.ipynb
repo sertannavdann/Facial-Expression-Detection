{
 "cells": [
  {
   "cell_type": "markdown",
   "id": "c67f5f6d",
   "metadata": {},
   "source": [
    "# Started from here!"
   ]
  },
  {
   "cell_type": "code",
   "execution_count": 22,
   "id": "6426cda9",
   "metadata": {},
   "outputs": [],
   "source": [
    "import torch\n",
    "import torch.nn.functional as F\n",
    "import torch.nn as nn\n",
    "import torch.optim as optim\n",
    "import torchvision.transforms as transforms\n",
    "from torch.utils.data import Dataset, DataLoader\n",
    "import torchvision.models as models\n",
    "\n",
    "import cv2\n",
    "import numpy as np\n",
    "from PIL import Image\n",
    "import os\n",
    "\n",
    "import heapq\n",
    "import itertools\n",
    "from sklearn.decomposition import PCA"
   ]
  },
  {
   "cell_type": "code",
   "execution_count": 23,
   "id": "d71d1c90",
   "metadata": {},
   "outputs": [],
   "source": [
    "test_dir = 'data/merged/test/'\n",
    "train_dir = 'data/merged/train/'\n",
    "\n",
    "#b_train_dir = 'data/balanced/'\n",
    "\n",
    "classes = os.listdir(train_dir)\n",
    "test_cls = os.listdir(train_dir)\n",
    "num_classes = len(classes)"
   ]
  },
  {
   "cell_type": "code",
   "execution_count": 24,
   "id": "d7dc0934-8a23-4c76-a883-9b27a75b2815",
   "metadata": {},
   "outputs": [
    {
     "name": "stdout",
     "output_type": "stream",
     "text": [
      "Number of classes: 7 \n",
      "Classes: ['fear', 'angry', 'sad', 'neutral', 'surprise', 'disgust', 'happy']\n"
     ]
    }
   ],
   "source": [
    "print(\n",
    "    f'Number of classes: {num_classes}',\n",
    "    f'\\nClasses: {classes}'\n",
    ")"
   ]
  },
  {
   "cell_type": "code",
   "execution_count": 25,
   "id": "983c4b17",
   "metadata": {},
   "outputs": [
    {
     "name": "stdout",
     "output_type": "stream",
     "text": [
      "--------Train--------\n",
      "fear: 5000\n",
      "angry: 5000\n",
      "sad: 5000\n",
      "neutral: 5000\n",
      "surprise: 5000\n",
      "disgust: 5000\n",
      "happy: 7215\n",
      "\n",
      "--------Test--------\n",
      "fear: 1024\n",
      "angry: 1000\n",
      "sad: 1247\n",
      "neutral: 1233\n",
      "surprise: 1000\n",
      "disgust: 1000\n",
      "happy: 1774\n"
     ]
    }
   ],
   "source": [
    "print(\"--------Train--------\")\n",
    "# check the number of images in each class\n",
    "for cls in classes:\n",
    "    print(f'{cls}: {len(os.listdir(train_dir + cls))}')\n",
    "\n",
    "print(\"\\n--------Test--------\")\n",
    "# check the number of images in each class\n",
    "for cls in classes:\n",
    "    print(f'{cls}: {len(os.listdir(test_dir + cls))}')\n",
    "    \n",
    "#print(\"\\n--------balance--------\")\n",
    "## check the number of images in each class\n",
    "#for cls in classes:\n",
    "#    print(f'{cls}: {len(os.listdir(b_train_dir + cls))}')"
   ]
  },
  {
   "cell_type": "code",
   "execution_count": 26,
   "id": "59d54f73",
   "metadata": {},
   "outputs": [
    {
     "name": "stdout",
     "output_type": "stream",
     "text": [
      "--------Train--------\n",
      "\n",
      "--------Test--------\n"
     ]
    }
   ],
   "source": [
    "import os\n",
    "import imghdr\n",
    "import shutil\n",
    "\n",
    "def delete_irrelevant_files(directory, classes):\n",
    "    for cls in classes:\n",
    "        class_dir = os.path.join(directory, cls)\n",
    "        with os.scandir(class_dir) as entries:\n",
    "            for entry in entries:\n",
    "                # Delete directories\n",
    "                if entry.is_dir():\n",
    "                    print(f'Deleting directory: {entry.path}')\n",
    "                    shutil.rmtree(entry.path)\n",
    "\n",
    "                # Check if the file is empty and delete it\n",
    "                elif os.path.getsize(entry.path) == 0:\n",
    "                    print(f'Deleting empty file: {entry.path}')\n",
    "                    os.remove(entry.path)\n",
    "\n",
    "                # Check if the file is not an image and delete it\n",
    "                elif not imghdr.what(entry.path):\n",
    "                    print(f'Deleting non-image file: {entry.path}')\n",
    "                    os.remove(entry.path)\n",
    "\n",
    "print(\"--------Train--------\")\n",
    "delete_irrelevant_files(train_dir, classes)\n",
    "\n",
    "print(\"\\n--------Test--------\")\n",
    "delete_irrelevant_files(test_dir, classes)\n",
    "\n",
    "#delete_irrelevant_files(b_train_dir, classes)\n"
   ]
  },
  {
   "cell_type": "markdown",
   "id": "184cd348",
   "metadata": {},
   "source": [
    "# Landmark detection from images and correlation of those landmark positions"
   ]
  },
  {
   "cell_type": "code",
   "execution_count": 27,
   "id": "687d3d66",
   "metadata": {},
   "outputs": [
    {
     "name": "stdout",
     "output_type": "stream",
     "text": [
      "Image input size: 6.75 MB\n"
     ]
    }
   ],
   "source": [
    "image_size = torch.Size([48, 48, 3])\n",
    "batch_size = 256\n",
    "\n",
    "# Compute the total size of the image input\n",
    "image_input_size = np.prod(image_size) * batch_size * 4. / (1024 ** 2.)\n",
    "print(f\"Image input size: {image_input_size:.2f} MB\")"
   ]
  },
  {
   "cell_type": "code",
   "execution_count": 28,
   "id": "bc48fd34",
   "metadata": {},
   "outputs": [],
   "source": [
    "class FER_Dataset(Dataset):\n",
    "    def __init__(self, root_dir, transform=None):\n",
    "        self.root_dir = root_dir\n",
    "        self.transform = transform\n",
    "        self.data = []\n",
    "        self.labels = []  # new list to store the label index\n",
    "        for i, label in enumerate(os.listdir(root_dir)):\n",
    "            class_dir = os.path.join(root_dir, label)\n",
    "            for img_name in os.listdir(class_dir):\n",
    "                img_path = os.path.join(class_dir, img_name)\n",
    "                image = cv2.imread(img_path)\n",
    "                self.data.append(image)\n",
    "                self.labels.append(i)  # add the label index for this image\n",
    "\n",
    "    def __len__(self):\n",
    "        return len(self.data)\n",
    "\n",
    "    def __getitem__(self, idx):\n",
    "        image = self.data[idx]\n",
    "        label = self.labels[idx]  # get the label index for this image\n",
    "\n",
    "        image = cv2.cvtColor(image, cv2.COLOR_BGR2RGB)\n",
    "        image = Image.fromarray(image)\n",
    "\n",
    "        if self.transform:\n",
    "            image = self.transform(image)\n",
    "\n",
    "        return image, label  # return the image and label index"
   ]
  },
  {
   "cell_type": "code",
   "execution_count": 29,
   "id": "fde4c05a",
   "metadata": {},
   "outputs": [],
   "source": [
    "# Train the model\n",
    "transform = transforms.Compose([\n",
    "    transforms.Resize((64, 64)),\n",
    "    transforms.ToTensor(),\n",
    "    transforms.Normalize((0.5, 0.5, 0.5), (0.5, 0.5, 0.5))\n",
    "])\n",
    "\n",
    "train_dataset = FER_Dataset(train_dir, transform=transform)\n",
    "val_dataset = FER_Dataset(test_dir, transform=transform)"
   ]
  },
  {
   "cell_type": "code",
   "execution_count": 30,
   "id": "8e67fa6f-c829-4088-87a8-2a80c660a92f",
   "metadata": {},
   "outputs": [],
   "source": [
    "train_dataloader = DataLoader(train_dataset, batch_size=256, shuffle=True, num_workers=24)\n",
    "val_dataloader = DataLoader(val_dataset, batch_size=256, shuffle=False, num_workers=24)"
   ]
  },
  {
   "cell_type": "code",
   "execution_count": 31,
   "id": "a5b2c0d9",
   "metadata": {},
   "outputs": [
    {
     "name": "stdout",
     "output_type": "stream",
     "text": [
      "0 torch.Size([256, 3, 64, 64]) torch.Size([256])\n",
      "0 torch.Size([256, 3, 64, 64]) torch.Size([256])\n"
     ]
    }
   ],
   "source": [
    "# show shape of the train_dataloader\n",
    "for i, data in enumerate(train_dataloader):\n",
    "    print(i, data[0].shape, data[1].shape)\n",
    "    break\n",
    "\n",
    "# show shape of the val_dataloader\n",
    "for i, data in enumerate(val_dataloader):\n",
    "    print(i, data[0].shape, data[1].shape)\n",
    "    break\n",
    "\n",
    "# torch.Size([4, 3, 48, 48]) torch.Size([4])\n",
    "# torch.Size([4, 3, 48, 48]) torch.Size([4])\n",
    "\n",
    "# 0 torch.Size([256, 3, 64, 64]) torch.Size([256])\n",
    "# 0 torch.Size([256, 3, 64, 64]) torch.Size([256])"
   ]
  },
  {
   "cell_type": "code",
   "execution_count": 32,
   "id": "4d283a45",
   "metadata": {},
   "outputs": [],
   "source": [
    "class MultiHeadAttention(nn.Module):\n",
    "    def __init__(self, input_dim, num_heads):\n",
    "        super(MultiHeadAttention, self).__init__()\n",
    "        self.input_dim = input_dim\n",
    "        self.num_heads = num_heads\n",
    "        self.head_dim = input_dim // num_heads\n",
    "\n",
    "        self.query = nn.Linear(input_dim, input_dim)\n",
    "        self.key = nn.Linear(input_dim, input_dim)\n",
    "        self.value = nn.Linear(input_dim, input_dim)\n",
    "\n",
    "        self.fc = nn.Linear(input_dim, input_dim)\n",
    "\n",
    "    def scaled_dot_product_attention(self, query, key, value):\n",
    "        qk = torch.matmul(query, key.transpose(-2, -1))\n",
    "        dk = query.size(-1)\n",
    "        scaled_attention_logits = qk / torch.sqrt(torch.tensor(dk, dtype=torch.float32, device=qk.device))\n",
    "\n",
    "        attention_weights = F.softmax(scaled_attention_logits, dim=-1)\n",
    "        output = torch.matmul(attention_weights, value)\n",
    "        return output, attention_weights\n",
    "\n",
    "    def split_heads(self, x):\n",
    "        batch_size = x.size(0)\n",
    "        x = x.view(batch_size, -1, self.num_heads, self.head_dim)\n",
    "        return x.transpose(1, 2)\n",
    "\n",
    "    def forward(self, x):\n",
    "        batch_size = x.size(0)\n",
    "\n",
    "        query = self.query(x)\n",
    "        key = self.key(x)\n",
    "        value = self.value(x)\n",
    "\n",
    "        query = self.split_heads(query)\n",
    "        key = self.split_heads(key)\n",
    "        value = self.split_heads(value)\n",
    "\n",
    "        out, attention_weights = self.scaled_dot_product_attention(query, key, value)\n",
    "        out = out.transpose(1, 2).contiguous().view(batch_size, -1, self.input_dim)\n",
    "\n",
    "        out = self.fc(out)\n",
    "        \n",
    "        return out"
   ]
  },
  {
   "cell_type": "code",
   "execution_count": 39,
   "id": "32162ff8",
   "metadata": {},
   "outputs": [],
   "source": [
    "class FacialExpressionDetectionModel(nn.Module):\n",
    "    def __init__(self, num_classes, num_heads):\n",
    "        super(FacialExpressionDetectionModel, self).__init__()\n",
    "        \n",
    "        # Load pre-trained MobileNetV2 model\n",
    "        mobilenet_v2 = models.mobilenet_v2(weights=True)\n",
    "        mobilenet_features = mobilenet_v2.features\n",
    "\n",
    "        # Freeze the first three blocks of the MobileNetV2 model\n",
    "        for param in mobilenet_features[:18].parameters():\n",
    "            param.requires_grad = False\n",
    "\n",
    "        self.conv1 = nn.Sequential(\n",
    "            # remaining layers of the mobilenetV2\n",
    "            mobilenet_features[0],\n",
    "            mobilenet_features[1],\n",
    "            mobilenet_features[2],\n",
    "            # Biases are freezed just like in the François Chollet's Book!\n",
    "            nn.Conv2d(24, 64, kernel_size=3, padding=1, bias=False),\n",
    "            nn.ReLU(inplace=True),\n",
    "            nn.BatchNorm2d(64),\n",
    "            nn.Conv2d(64, 128, kernel_size=3, padding=1, bias=False),\n",
    "            nn.ReLU(inplace=True),\n",
    "            nn.BatchNorm2d(128),\n",
    "            nn.MaxPool2d(kernel_size=2, stride=2),\n",
    "            nn.Dropout(0.5)\n",
    "        )\n",
    "\n",
    "        # Block-2\n",
    "        self.conv2 = nn.Sequential(\n",
    "            nn.Conv2d(128, 512, kernel_size=3, padding=1, bias=False),\n",
    "            nn.ReLU(inplace=True),\n",
    "            nn.BatchNorm2d(512),\n",
    "            nn.Conv2d(512, 256, kernel_size=3, padding=1, bias=False),\n",
    "            nn.ReLU(inplace=True),\n",
    "            nn.BatchNorm2d(256),\n",
    "            nn.MaxPool2d(kernel_size=2, stride=2),\n",
    "            nn.Dropout(0.5)\n",
    "        )\n",
    "\n",
    "        # Block-3\n",
    "        self.conv3 = nn.Sequential(\n",
    "            nn.Conv2d(256, 128, kernel_size=3, padding=1, bias=False),\n",
    "            nn.ReLU(inplace=True),\n",
    "            nn.BatchNorm2d(128),\n",
    "            nn.Conv2d(128, 128, kernel_size=3, padding=1, bias=False),\n",
    "            nn.ReLU(inplace=True),\n",
    "            nn.BatchNorm2d(128),\n",
    "            nn.MaxPool2d(kernel_size=2, stride=2),\n",
    "            nn.Dropout(0.25)\n",
    "        )\n",
    "\n",
    "        # Block-4\n",
    "        self.conv4 = nn.Sequential(\n",
    "            nn.Conv2d(128, 64, kernel_size=3, padding=1, bias=False),\n",
    "            nn.ReLU(inplace=True),\n",
    "            nn.BatchNorm2d(64),\n",
    "            nn.Conv2d(64, 256, kernel_size=3, padding=1, bias=False),\n",
    "            nn.ReLU(inplace=True),\n",
    "            nn.BatchNorm2d(256),\n",
    "            nn.MaxPool2d(kernel_size=2, stride=2),\n",
    "            nn.Dropout(0.125)\n",
    "        )\n",
    "\n",
    "        # Block-5\n",
    "        self.fc1 = nn.Sequential(\n",
    "            nn.Linear(64 * 2 * 2, 512),  # Update the input size to match the new input shape\n",
    "            nn.ReLU(inplace=True),\n",
    "            nn.BatchNorm1d(512),\n",
    "            nn.Dropout(0.25)\n",
    "        )\n",
    "\n",
    "        # Attention Layer\n",
    "        self.attention = MultiHeadAttention(512, num_heads)\n",
    "        self.attention_transform = nn.Linear(512, 64)\n",
    "\n",
    "\n",
    "        # Block-6\n",
    "        self.fc2 = nn.Sequential(\n",
    "            nn.Linear(64, 32),  # Update the input size to 64\n",
    "            nn.ReLU(inplace=True),\n",
    "            nn.BatchNorm1d(32),\n",
    "            nn.Dropout(0.125),\n",
    "        )\n",
    "\n",
    "        # Block-7\n",
    "        self.fc3 = nn.Linear(32, num_classes)\n",
    "\n",
    "    def forward(self, x):\n",
    "        x = self.conv1(x)\n",
    "        x = self.conv2(x)\n",
    "        x = self.conv3(x)\n",
    "        x = self.conv4(x)\n",
    "        x = x.view(x.size(0), -1)\n",
    "        x = self.fc1(x)\n",
    "        x = self.attention(x)\n",
    "        x = x.view(x.size(0), -1)  # Flatten the output of the attention layer\n",
    "        x = self.attention_transform(x)\n",
    "        x = self.fc2(x)\n",
    "        x = self.fc3(x)\n",
    "        return F.softmax(x, dim=1)\n"
   ]
  },
  {
   "cell_type": "code",
   "execution_count": 40,
   "id": "f0ba4b3b",
   "metadata": {},
   "outputs": [
    {
     "name": "stdout",
     "output_type": "stream",
     "text": [
      "cuda\n"
     ]
    }
   ],
   "source": [
    "device = torch.device(\"cuda\" if torch.cuda.is_available() else \"cpu\")\n",
    "print(device)"
   ]
  },
  {
   "cell_type": "code",
   "execution_count": 41,
   "id": "aca52362",
   "metadata": {},
   "outputs": [],
   "source": [
    "num_classes = 7\n",
    "num_heads = 32\n",
    "model = FacialExpressionDetectionModel(num_classes, num_heads).to(device)"
   ]
  },
  {
   "cell_type": "code",
   "execution_count": 42,
   "id": "8ab8a7ae",
   "metadata": {},
   "outputs": [],
   "source": [
    "with open('FER_model.txt', 'w') as f:\n",
    "    f.write(str(model))"
   ]
  },
  {
   "cell_type": "code",
   "execution_count": 43,
   "id": "7a07a85d",
   "metadata": {},
   "outputs": [],
   "source": [
    "def train_epoch(model, dataloader, criterion, optimizer, device):\n",
    "    model.train()\n",
    "    running_loss = 0.0\n",
    "    running_corrects = 0\n",
    "\n",
    "    for data, targets in dataloader:\n",
    "        data = data.to(device)\n",
    "        targets = targets.to(device)\n",
    "\n",
    "        # Use autocast for mixed precision\n",
    "        with autocast():\n",
    "            outputs = model(data)\n",
    "            loss = criterion(outputs, targets)\n",
    "            _, preds = torch.max(outputs, 1)\n",
    "\n",
    "        # Scale the loss and perform backpropagation\n",
    "        scaler.scale(loss).backward()\n",
    "        scaler.step(optimizer)\n",
    "        scaler.update()\n",
    "\n",
    "        running_loss += loss.item() * data.size(0)\n",
    "        running_corrects += torch.sum(preds == targets.data)\n",
    "\n",
    "    epoch_loss = running_loss / len(dataloader.dataset)\n",
    "    epoch_acc = running_corrects.double() / len(dataloader.dataset)\n",
    "\n",
    "    return epoch_loss, epoch_acc\n"
   ]
  },
  {
   "cell_type": "code",
   "execution_count": 44,
   "id": "31561c8d",
   "metadata": {},
   "outputs": [],
   "source": [
    "def validate_epoch(model, dataloader, criterion, device):\n",
    "    model.eval()\n",
    "    running_loss = 0.0\n",
    "    running_corrects = 0\n",
    "\n",
    "    with torch.no_grad():\n",
    "        for data, targets in dataloader:\n",
    "            data, targets = data.to(device), targets.to(device)\n",
    "\n",
    "            # Use autocast for mixed precision\n",
    "            with autocast():\n",
    "                outputs = model(data)\n",
    "                loss = criterion(outputs, targets)\n",
    "                _, preds = torch.max(outputs, 1)\n",
    "\n",
    "            running_loss += loss.item() * data.size(0)\n",
    "            running_corrects += torch.sum(preds == targets.data)\n",
    "\n",
    "    epoch_loss = running_loss / len(dataloader.dataset)\n",
    "    epoch_acc = running_corrects.double() / len(dataloader.dataset)\n",
    "\n",
    "    return epoch_loss, epoch_acc"
   ]
  },
  {
   "cell_type": "code",
   "execution_count": 45,
   "id": "488203d3",
   "metadata": {},
   "outputs": [],
   "source": [
    "import torch.optim as optim\n",
    "from torch.cuda.amp import GradScaler, autocast\n",
    "from torch.optim.lr_scheduler import ReduceLROnPlateau\n",
    "\n",
    "model = FacialExpressionDetectionModel(num_classes, num_heads).to(device)\n",
    "criterion = nn.CrossEntropyLoss()\n",
    "optimizer = optim.AdamW(model.parameters(), lr=0.001, weight_decay=0.0001)\n",
    "scheduler = optim.lr_scheduler.ReduceLROnPlateau(optimizer, mode='min', factor=0.1, patience=5, threshold=0.0001)\n",
    "scaler = GradScaler()"
   ]
  },
  {
   "cell_type": "code",
   "execution_count": 46,
   "id": "828ea399",
   "metadata": {},
   "outputs": [
    {
     "name": "stdout",
     "output_type": "stream",
     "text": [
      "cuda\n"
     ]
    }
   ],
   "source": [
    "print(device)"
   ]
  },
  {
   "cell_type": "code",
   "execution_count": 47,
   "id": "57c79dfa-79fd-493e-8382-5ab4c8c7de56",
   "metadata": {},
   "outputs": [],
   "source": [
    "import os\n",
    "os.environ['CUDA_LAUNCH_BLOCKING'] = '1'"
   ]
  },
  {
   "cell_type": "code",
   "execution_count": 48,
   "id": "76d74a08",
   "metadata": {},
   "outputs": [
    {
     "name": "stdout",
     "output_type": "stream",
     "text": [
      "Epoch: 1/70, Train Loss: 1.7618, Train Acc: 0.3984, Val Loss: 1.6655, Val Acc: 0.4928\n",
      "Epoch: 2/70, Train Loss: 1.6786, Train Acc: 0.4846, Val Loss: 1.6744, Val Acc: 0.4837\n",
      "Epoch: 3/70, Train Loss: 1.6547, Train Acc: 0.5060, Val Loss: 1.6237, Val Acc: 0.5379\n",
      "Epoch: 4/70, Train Loss: 1.6451, Train Acc: 0.5162, Val Loss: 1.5951, Val Acc: 0.5663\n",
      "Epoch: 5/70, Train Loss: 1.6232, Train Acc: 0.5387, Val Loss: 1.5954, Val Acc: 0.5655\n",
      "Epoch: 6/70, Train Loss: 1.6228, Train Acc: 0.5394, Val Loss: 1.6053, Val Acc: 0.5556\n",
      "Epoch: 7/70, Train Loss: 1.6107, Train Acc: 0.5512, Val Loss: 1.5809, Val Acc: 0.5808\n",
      "Epoch: 8/70, Train Loss: 1.6039, Train Acc: 0.5592, Val Loss: 1.5830, Val Acc: 0.5778\n",
      "Epoch: 9/70, Train Loss: 1.6030, Train Acc: 0.5596, Val Loss: 1.5729, Val Acc: 0.5900\n",
      "Epoch: 10/70, Train Loss: 1.5961, Train Acc: 0.5660, Val Loss: 1.5719, Val Acc: 0.5901\n",
      "Epoch: 11/70, Train Loss: 1.5885, Train Acc: 0.5740, Val Loss: 1.5746, Val Acc: 0.5875\n",
      "Epoch: 12/70, Train Loss: 1.5874, Train Acc: 0.5752, Val Loss: 1.5730, Val Acc: 0.5894\n",
      "Epoch: 13/70, Train Loss: 1.5817, Train Acc: 0.5819, Val Loss: 1.5666, Val Acc: 0.5956\n",
      "Epoch: 14/70, Train Loss: 1.5766, Train Acc: 0.5863, Val Loss: 1.5667, Val Acc: 0.5947\n",
      "Epoch: 15/70, Train Loss: 1.5758, Train Acc: 0.5872, Val Loss: 1.5612, Val Acc: 0.5997\n",
      "Epoch: 16/70, Train Loss: 1.5668, Train Acc: 0.5953, Val Loss: 1.5680, Val Acc: 0.5942\n",
      "Epoch: 17/70, Train Loss: 1.5638, Train Acc: 0.5992, Val Loss: 1.5557, Val Acc: 0.6078\n",
      "Epoch: 18/70, Train Loss: 1.5574, Train Acc: 0.6056, Val Loss: 1.5649, Val Acc: 0.5953\n",
      "Epoch: 19/70, Train Loss: 1.5566, Train Acc: 0.6065, Val Loss: 1.5532, Val Acc: 0.6081\n",
      "Epoch: 20/70, Train Loss: 1.5513, Train Acc: 0.6112, Val Loss: 1.5510, Val Acc: 0.6113\n",
      "Epoch: 21/70, Train Loss: 1.5476, Train Acc: 0.6155, Val Loss: 1.5427, Val Acc: 0.6198\n",
      "Epoch: 22/70, Train Loss: 1.5458, Train Acc: 0.6171, Val Loss: 1.5435, Val Acc: 0.6194\n",
      "Epoch: 23/70, Train Loss: 1.5437, Train Acc: 0.6196, Val Loss: 1.5548, Val Acc: 0.6074\n",
      "Epoch: 24/70, Train Loss: 1.5445, Train Acc: 0.6188, Val Loss: 1.5370, Val Acc: 0.6266\n",
      "Epoch: 25/70, Train Loss: 1.5383, Train Acc: 0.6248, Val Loss: 1.5501, Val Acc: 0.6116\n",
      "Epoch: 26/70, Train Loss: 1.5366, Train Acc: 0.6269, Val Loss: 1.5423, Val Acc: 0.6202\n",
      "Epoch: 27/70, Train Loss: 1.5321, Train Acc: 0.6308, Val Loss: 1.5401, Val Acc: 0.6245\n",
      "Epoch: 28/70, Train Loss: 1.5311, Train Acc: 0.6318, Val Loss: 1.5444, Val Acc: 0.6185\n",
      "Epoch: 29/70, Train Loss: 1.5261, Train Acc: 0.6383, Val Loss: 1.5456, Val Acc: 0.6184\n",
      "Epoch: 30/70, Train Loss: 1.5261, Train Acc: 0.6377, Val Loss: 1.5294, Val Acc: 0.6338\n",
      "Epoch: 31/70, Train Loss: 1.5218, Train Acc: 0.6417, Val Loss: 1.5451, Val Acc: 0.6192\n",
      "Epoch: 32/70, Train Loss: 1.5234, Train Acc: 0.6410, Val Loss: 1.5351, Val Acc: 0.6271\n",
      "Epoch: 33/70, Train Loss: 1.5195, Train Acc: 0.6446, Val Loss: 1.5324, Val Acc: 0.6307\n",
      "Epoch: 34/70, Train Loss: 1.5146, Train Acc: 0.6498, Val Loss: 1.5261, Val Acc: 0.6382\n",
      "Epoch: 35/70, Train Loss: 1.5151, Train Acc: 0.6489, Val Loss: 1.5230, Val Acc: 0.6400\n",
      "Epoch: 36/70, Train Loss: 1.5134, Train Acc: 0.6504, Val Loss: 1.5297, Val Acc: 0.6325\n",
      "Epoch: 37/70, Train Loss: 1.5115, Train Acc: 0.6528, Val Loss: 1.5192, Val Acc: 0.6444\n",
      "Epoch: 38/70, Train Loss: 1.5108, Train Acc: 0.6528, Val Loss: 1.5170, Val Acc: 0.6460\n",
      "Epoch: 39/70, Train Loss: 1.5080, Train Acc: 0.6556, Val Loss: 1.5241, Val Acc: 0.6399\n",
      "Epoch: 40/70, Train Loss: 1.5080, Train Acc: 0.6567, Val Loss: 1.5231, Val Acc: 0.6394\n",
      "Epoch: 41/70, Train Loss: 1.5078, Train Acc: 0.6561, Val Loss: 1.5336, Val Acc: 0.6295\n",
      "Epoch: 42/70, Train Loss: 1.5067, Train Acc: 0.6573, Val Loss: 1.5338, Val Acc: 0.6301\n",
      "Epoch: 43/70, Train Loss: 1.5070, Train Acc: 0.6571, Val Loss: 1.5285, Val Acc: 0.6352\n",
      "Epoch: 44/70, Train Loss: 1.5066, Train Acc: 0.6577, Val Loss: 1.5293, Val Acc: 0.6340\n",
      "Epoch: 45/70, Train Loss: 1.4964, Train Acc: 0.6680, Val Loss: 1.5182, Val Acc: 0.6460\n",
      "Epoch: 46/70, Train Loss: 1.4897, Train Acc: 0.6748, Val Loss: 1.5142, Val Acc: 0.6504\n",
      "Epoch: 47/70, Train Loss: 1.4844, Train Acc: 0.6798, Val Loss: 1.5130, Val Acc: 0.6510\n",
      "Epoch: 48/70, Train Loss: 1.4818, Train Acc: 0.6820, Val Loss: 1.5130, Val Acc: 0.6509\n",
      "Epoch: 49/70, Train Loss: 1.4787, Train Acc: 0.6856, Val Loss: 1.5105, Val Acc: 0.6527\n",
      "Epoch: 50/70, Train Loss: 1.4772, Train Acc: 0.6869, Val Loss: 1.5103, Val Acc: 0.6526\n",
      "Epoch: 51/70, Train Loss: 1.4762, Train Acc: 0.6877, Val Loss: 1.5091, Val Acc: 0.6539\n",
      "Epoch: 52/70, Train Loss: 1.4776, Train Acc: 0.6867, Val Loss: 1.5082, Val Acc: 0.6555\n",
      "Epoch: 53/70, Train Loss: 1.4742, Train Acc: 0.6903, Val Loss: 1.5084, Val Acc: 0.6558\n",
      "Epoch: 54/70, Train Loss: 1.4703, Train Acc: 0.6940, Val Loss: 1.5089, Val Acc: 0.6550\n",
      "Epoch: 55/70, Train Loss: 1.4695, Train Acc: 0.6946, Val Loss: 1.5055, Val Acc: 0.6584\n",
      "Epoch: 56/70, Train Loss: 1.4679, Train Acc: 0.6964, Val Loss: 1.5052, Val Acc: 0.6591\n",
      "Epoch: 57/70, Train Loss: 1.4687, Train Acc: 0.6957, Val Loss: 1.5051, Val Acc: 0.6598\n",
      "Epoch: 58/70, Train Loss: 1.4676, Train Acc: 0.6971, Val Loss: 1.5056, Val Acc: 0.6589\n",
      "Epoch: 59/70, Train Loss: 1.4686, Train Acc: 0.6958, Val Loss: 1.5051, Val Acc: 0.6583\n",
      "Epoch: 60/70, Train Loss: 1.4666, Train Acc: 0.6974, Val Loss: 1.5054, Val Acc: 0.6583\n",
      "Epoch: 61/70, Train Loss: 1.4682, Train Acc: 0.6958, Val Loss: 1.5062, Val Acc: 0.6574\n",
      "Epoch: 62/70, Train Loss: 1.4693, Train Acc: 0.6942, Val Loss: 1.5057, Val Acc: 0.6573\n",
      "Epoch: 63/70, Train Loss: 1.4708, Train Acc: 0.6934, Val Loss: 1.5053, Val Acc: 0.6587\n",
      "Epoch: 64/70, Train Loss: 1.4702, Train Acc: 0.6942, Val Loss: 1.5047, Val Acc: 0.6597\n",
      "Epoch: 65/70, Train Loss: 1.4682, Train Acc: 0.6958, Val Loss: 1.5056, Val Acc: 0.6592\n",
      "Epoch: 66/70, Train Loss: 1.4682, Train Acc: 0.6960, Val Loss: 1.5063, Val Acc: 0.6579\n",
      "Epoch: 67/70, Train Loss: 1.4684, Train Acc: 0.6960, Val Loss: 1.5055, Val Acc: 0.6587\n",
      "Epoch: 68/70, Train Loss: 1.4689, Train Acc: 0.6950, Val Loss: 1.5053, Val Acc: 0.6601\n",
      "Epoch: 69/70, Train Loss: 1.4723, Train Acc: 0.6915, Val Loss: 1.5054, Val Acc: 0.6576\n",
      "Epoch: 70/70, Train Loss: 1.4694, Train Acc: 0.6951, Val Loss: 1.5054, Val Acc: 0.6591\n"
     ]
    }
   ],
   "source": [
    "import matplotlib.pyplot as plt\n",
    "\n",
    "# create empty lists to store loss and accuracy for each epoch\n",
    "train_loss_list = []\n",
    "train_acc_list = []\n",
    "val_loss_list = []\n",
    "val_acc_list = []\n",
    "\n",
    "num_epochs = 70\n",
    "for epoch in range(num_epochs):\n",
    "    \n",
    "    train_loss, train_acc = train_epoch(model, train_dataloader, criterion, optimizer, device)\n",
    "    val_loss, val_acc = validate_epoch(model, val_dataloader, criterion, device)\n",
    "    scheduler.step(val_loss)\n",
    "    \n",
    "    # append the loss and accuracy to the lists\n",
    "    train_loss_list.append(train_loss)\n",
    "    train_acc_list.append(train_acc)\n",
    "    val_loss_list.append(val_loss)\n",
    "    val_acc_list.append(val_acc)\n",
    "\n",
    "\n",
    "    print(f\"Epoch: {epoch+1}/{num_epochs}, Train Loss: {train_loss:.4f}, Train Acc: {train_acc:.4f}, Val Loss: {val_loss:.4f}, Val Acc: {val_acc:.4f}\")"
   ]
  },
  {
   "cell_type": "code",
   "execution_count": 49,
   "id": "6d739b73-3926-4de7-94eb-ec7cd6d2bdd9",
   "metadata": {},
   "outputs": [
    {
     "name": "stderr",
     "output_type": "stream",
     "text": [
      "<ipython-input-32-874faf80d163>:17: TracerWarning: torch.tensor results are registered as constants in the trace. You can safely ignore this warning if you use this function to create tensors out of constant variables that would be the same every time you call this function. In any other case, this might cause the trace to be incorrect.\n",
      "  scaled_attention_logits = qk / torch.sqrt(torch.tensor(dk, dtype=torch.float32, device=qk.device))\n",
      "<ipython-input-32-874faf80d163>:17: UserWarning: To copy construct from a tensor, it is recommended to use sourceTensor.clone().detach() or sourceTensor.clone().detach().requires_grad_(True), rather than torch.tensor(sourceTensor).\n",
      "  scaled_attention_logits = qk / torch.sqrt(torch.tensor(dk, dtype=torch.float32, device=qk.device))\n"
     ]
    },
    {
     "name": "stdout",
     "output_type": "stream",
     "text": [
      "Model saved as FER_Model_AdamW.onnx\n"
     ]
    }
   ],
   "source": [
    "import torch\n",
    "import torch.onnx\n",
    "\n",
    "device = next(model.parameters()).device\n",
    "dummy_input = torch.randn(1, 3, 64, 64).to(device)\n",
    "\n",
    "onnx_filename = \"FER_Model_AdamW.onnx\"\n",
    "torch.onnx.export(model, dummy_input, onnx_filename)\n",
    "\n",
    "print(f\"Model saved as {onnx_filename}\")"
   ]
  },
  {
   "cell_type": "code",
   "execution_count": 50,
   "id": "50c3ba05-e6dc-4393-877b-a795bc38c82b",
   "metadata": {},
   "outputs": [
    {
     "name": "stderr",
     "output_type": "stream",
     "text": [
      "/home/ubuntu/.local/lib/python3.8/site-packages/pandas/core/computation/expressions.py:20: UserWarning: Pandas requires version '2.7.3' or newer of 'numexpr' (version '2.7.1' currently installed).\n",
      "  from pandas.core.computation.check import NUMEXPR_INSTALLED\n"
     ]
    },
    {
     "data": {
      "image/png": "[encoded data removed]",
      "text/plain": [
       "<Figure size 720x432 with 1 Axes>"
      ]
     },
     "metadata": {
      "needs_background": "light"
     },
     "output_type": "display_data"
    }
   ],
   "source": [
    "import pandas as pd\n",
    "import seaborn as sns\n",
    "import matplotlib.pyplot as plt\n",
    "\n",
    "train_acc_list = [float(t) for t in train_acc_list]\n",
    "val_acc_list = [float(t) for t in val_acc_list]\n",
    "\n",
    "train_acc_df = pd.DataFrame({'Epoch': range(len(train_acc_list)), 'Accuracy': train_acc_list, 'Type': 'Train'})\n",
    "val_acc_df = pd.DataFrame({'Epoch': range(len(val_acc_list)), 'Accuracy': val_acc_list, 'Type': 'Validation'})\n",
    "\n",
    "acc_df = pd.concat([train_acc_df, val_acc_df])\n",
    "\n",
    "sns.set_style('darkgrid')\n",
    "\n",
    "plt.figure(figsize=(10, 6))\n",
    "sns.lineplot(data=acc_df, x='Epoch', y='Accuracy', hue='Type')\n",
    "plt.title('Accuracy')\n",
    "plt.xlabel('Epoch')\n",
    "plt.ylabel('Accuracy')\n",
    "plt.legend()\n",
    "\n",
    "# Save the graph to a file\n",
    "plt.savefig('accuracy_graph_AdamW.png', dpi=300)\n",
    "\n",
    "plt.show()\n"
   ]
  },
  {
   "cell_type": "code",
   "execution_count": 51,
   "id": "8ce6184e-fabc-4f4a-afd0-309d55b3f1c6",
   "metadata": {},
   "outputs": [
    {
     "data": {
      "image/png": "[encoded data removed]",
      "text/plain": [
       "<Figure size 720x432 with 1 Axes>"
      ]
     },
     "metadata": {},
     "output_type": "display_data"
    }
   ],
   "source": [
    "import pandas as pd\n",
    "import seaborn as sns\n",
    "import matplotlib.pyplot as plt\n",
    "\n",
    "train_acc_list = [float(t) for t in train_acc_list]\n",
    "val_acc_list = [float(t) for t in val_acc_list]\n",
    "\n",
    "train_acc_df = pd.DataFrame({'Epoch': range(len(train_acc_list)), 'Accuracy': train_acc_list, 'Type': 'Train'})\n",
    "val_acc_df = pd.DataFrame({'Epoch': range(len(val_acc_list)), 'Accuracy': val_acc_list, 'Type': 'Validation'})\n",
    "\n",
    "acc_df = pd.concat([train_acc_df, val_acc_df])\n",
    "\n",
    "sns.set_style('darkgrid')\n",
    "\n",
    "plt.figure(figsize=(10, 6))\n",
    "sns.lineplot(data=acc_df, x='Epoch', y='Accuracy', hue='Type')\n",
    "plt.title('Accuracy')\n",
    "plt.xlabel('Epoch')\n",
    "plt.ylabel('Accuracy')\n",
    "plt.legend()\n",
    "\n",
    "# Save the graph to a file\n",
    "plt.savefig('accuracy_graph_AdamW.png', dpi=300)\n",
    "\n",
    "plt.show()\n"
   ]
  },
  {
   "cell_type": "code",
   "execution_count": 52,
   "id": "d842c20a-c235-46aa-944d-8f5be5a6419b",
   "metadata": {},
   "outputs": [
    {
     "data": {
      "image/png": "[encoded data removed]",
      "text/plain": [
       "<Figure size 720x432 with 1 Axes>"
      ]
     },
     "metadata": {},
     "output_type": "display_data"
    }
   ],
   "source": [
    "train_loss_list = [float(t) for t in train_loss_list]\n",
    "val_loss_list = [float(t) for t in val_loss_list]\n",
    "\n",
    "train_loss_list = pd.DataFrame({'Epoch': range(len(train_loss_list)), 'Loss': train_loss_list, 'Type': 'Train'})\n",
    "val_loss_list = pd.DataFrame({'Epoch': range(len(val_loss_list)), 'Loss': val_loss_list, 'Type': 'Validation'})\n",
    "\n",
    "acc_df = pd.concat([train_loss_list, val_loss_list])\n",
    "\n",
    "sns.set_style('darkgrid')\n",
    "\n",
    "plt.figure(figsize=(10, 6))\n",
    "sns.lineplot(data=acc_df, x='Epoch', y='Loss', hue='Type')\n",
    "plt.title('Loss')\n",
    "plt.xlabel('Epoch')\n",
    "plt.ylabel('Loss')\n",
    "plt.legend()\n",
    "\n",
    "# Save the graph to a file\n",
    "plt.savefig('loss_graph_AdamW.png', dpi=300)\n",
    "\n",
    "plt.show()\n"
   ]
  },
  {
   "cell_type": "code",
   "execution_count": 53,
   "id": "a8db09c8",
   "metadata": {
    "tags": []
   },
   "outputs": [
    {
     "name": "stdout",
     "output_type": "stream",
     "text": [
      "PyTorch version: 1.12.1\n",
      "CUDA version: 11.6\n",
      "cuDNN version: 8303\n"
     ]
    }
   ],
   "source": [
    "# define a function to check pytorch version\n",
    "def check_pytorch_version():\n",
    "    if torch.__version__ >= '1.6.0':\n",
    "        return True\n",
    "    else:\n",
    "        return False\n",
    "    \n",
    "# define a function to check cuda version\n",
    "def check_cuda_version():\n",
    "    if torch.cuda.is_available():\n",
    "        return True\n",
    "    else:\n",
    "        return False\n",
    "    \n",
    "# define a function to check cudnn version\n",
    "def check_cudnn_version():\n",
    "    if check_cuda_version():\n",
    "        if torch.backends.cudnn.enabled:\n",
    "            return True\n",
    "        else:\n",
    "            return False\n",
    "    else:\n",
    "        return False\n",
    "    \n",
    "# define a function to check if the system is ready for training\n",
    "def check_system():\n",
    "    if check_pytorch_version():\n",
    "        print('PyTorch version: {}'.format(torch.__version__))\n",
    "    else:\n",
    "        print('PyTorch version: {} (update required)'.format(torch.__version__))\n",
    "        \n",
    "    if check_cuda_version():\n",
    "        print('CUDA version: {}'.format(torch.version.cuda))\n",
    "    else:\n",
    "        print('CUDA version: {} (install CUDA to enable GPU training)'.format(torch.version.cuda))\n",
    "        \n",
    "    if check_cudnn_version():\n",
    "        print('cuDNN version: {}'.format(torch.backends.cudnn.version()))\n",
    "    else:\n",
    "        print('cuDNN version: {} (install cuDNN to enable GPU training)'.format(torch.backends.cudnn.version()))\n",
    "\n",
    "check_system()"
   ]
  }
 ],
 "metadata": {
  "kernelspec": {
   "display_name": "Python 3",
   "language": "python",
   "name": "python3"
  },
  "language_info": {
   "codemirror_mode": {
    "name": "ipython",
    "version": 3
   },
   "file_extension": ".py",
   "mimetype": "text/x-python",
   "name": "python",
   "nbconvert_exporter": "python",
   "pygments_lexer": "ipython3",
   "version": "3.8.10"
  }
 },
 "nbformat": 4,
 "nbformat_minor": 5
}
